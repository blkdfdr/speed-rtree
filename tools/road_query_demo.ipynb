{
 "cells": [
  {
   "metadata": {},
   "cell_type": "code",
   "source": [
    "from ipywidgets import Output\n",
    "%run -m parse_data"
   ],
   "outputs": [],
   "execution_count": null
  },
  {
   "cell_type": "markdown",
   "metadata": {},
   "source": [
    "# Road Query Demo\n",
    "This notebook demonstrates querying the top 10 nearest road segments to a given coordinate using the Schema class."
   ]
  },
  {
   "metadata": {
    "ExecuteTime": {
     "end_time": "2025-07-19T19:46:29.732986Z",
     "start_time": "2025-07-19T19:46:29.675719Z"
    }
   },
   "cell_type": "code",
   "source": [
    "%load_ext autoreload\n",
    "%autoreload 2\n",
    "from schema import Schema\n",
    "from ipyleaflet import Map, basemaps, Polyline, Marker, Rectangle\n",
    "from ipywidgets import Output\n",
    "\n",
    "# Prompt for coordinates\n",
    "lat,lon = map(float, \"48.137394371914255, 11.575701088894027\".split(\", \"))\n",
    "radius = float(60)\n",
    "\n",
    "schema = Schema()\n",
    "\n",
    "out = Output()\n",
    "\n",
    "center = (lat,lon)\n",
    "\n",
    "mappy = Map(basemap = basemaps.OpenStreetMap.Mapnik, zoom = 16, center = center)\n",
    "\n",
    "lines = []\n",
    "\n",
    "def get_new_roads(event = None, location = None):\n",
    "    with out:\n",
    "        global lines\n",
    "        out.clear_output()\n",
    "        print(event)\n",
    "        for line in lines:\n",
    "            mappy.remove_layer(line)\n",
    "        lines = []\n",
    "        results, bbox = schema.nearest_road_distances(marker.location[1],marker.location[0], radius)\n",
    "\n",
    "        lines+=[Rectangle(bounds = bbox, color = \"#aa000033\", fill = True)]\n",
    "\n",
    "        if results:\n",
    "            print('Top 10 nearest roads:')\n",
    "            for i, (dist, row, _, _) in enumerate(results):\n",
    "                line = Polyline(locations=[[row[7],row[6]],[row[9],row[8]]], color='red', fill=True)\n",
    "                lines += [line]\n",
    "            # dedupdict = {row[10]+row[11]: (dist, row, start, end) for dist, row, start, end in sorted(results, key = lambda x: x[0])}\n",
    "            # results = sorted([dedupdict[row] for row in dedupdict.keys()], key=lambda x: x[0])[:10]\n",
    "            for i, (dist, row, _, _) in enumerate(results, 1):\n",
    "                print(f'{i}. {row[-2]} (maxspeed: {row[-1]}) - Distance: {dist:.2f} meters')\n",
    "            lines += [Polyline(locations=results[0][2:4], color=\"blue\", fill=False)]\n",
    "            for line in lines:\n",
    "                mappy.add_layer(line)\n",
    "        else:\n",
    "            print('No road found within radius.')\n",
    "\n",
    "marker = Marker(location=center, draggable = True)\n",
    "\n",
    "mappy.add_layer(marker)\n",
    "marker.on_move(get_new_roads)\n",
    "get_new_roads()\n",
    "\n",
    "display(mappy, out)"
   ],
   "outputs": [
    {
     "name": "stdout",
     "output_type": "stream",
     "text": [
      "The autoreload extension is already loaded. To reload it, use:\n",
      "  %reload_ext autoreload\n"
     ]
    },
    {
     "data": {
      "text/plain": [
       "Map(center=[48.137394371914255, 11.575701088894027], controls=(ZoomControl(options=['position', 'zoom_in_text'…"
      ],
      "application/vnd.jupyter.widget-view+json": {
       "version_major": 2,
       "version_minor": 0,
       "model_id": "2b3a5b2eda4d40e1ba85c7def964b628"
      }
     },
     "metadata": {},
     "output_type": "display_data"
    },
    {
     "data": {
      "text/plain": [
       "Output()"
      ],
      "application/vnd.jupyter.widget-view+json": {
       "version_major": 2,
       "version_minor": 0,
       "model_id": "9532250c8dc145898f82e715d8ff4a3c"
      }
     },
     "metadata": {},
     "output_type": "display_data"
    }
   ],
   "execution_count": 11
  },
  {
   "metadata": {},
   "cell_type": "code",
   "source": "",
   "outputs": [],
   "execution_count": null
  }
 ],
 "metadata": {
  "kernelspec": {
   "display_name": "Python 3 (ipykernel)",
   "language": "python",
   "name": "python3"
  },
  "language_info": {
   "codemirror_mode": {
    "name": "ipython",
    "version": 3
   },
   "file_extension": ".py",
   "mimetype": "text/x-python",
   "name": "python",
   "nbconvert_exporter": "python",
   "pygments_lexer": "ipython3",
   "version": "3.12.11"
  }
 },
 "nbformat": 4,
 "nbformat_minor": 4
}
